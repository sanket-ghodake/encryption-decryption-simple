{
  "nbformat": 4,
  "nbformat_minor": 0,
  "metadata": {
    "colab": {
      "name": "encryption decryption.ipynb",
      "provenance": [],
      "collapsed_sections": []
    },
    "kernelspec": {
      "name": "python3",
      "display_name": "Python 3"
    },
    "language_info": {
      "name": "python"
    }
  },
  "cells": [
    {
      "cell_type": "code",
      "source": [
        "!pip install cryptography\n",
        "!pip install Crypto\n",
        "!pip install pycrypto"
      ],
      "metadata": {
        "id": "5jfAZZi13sSQ",
        "colab": {
          "base_uri": "https://localhost:8080/"
        },
        "outputId": "6ee02d97-2e2b-4b46-a3e4-01323ebcf082"
      },
      "execution_count": 1,
      "outputs": [
        {
          "output_type": "stream",
          "name": "stdout",
          "text": [
            "Collecting cryptography\n",
            "  Downloading cryptography-36.0.2-cp36-abi3-manylinux_2_24_x86_64.whl (3.6 MB)\n",
            "\u001b[K     |████████████████████████████████| 3.6 MB 4.9 MB/s \n",
            "\u001b[?25hRequirement already satisfied: cffi>=1.12 in /usr/local/lib/python3.7/dist-packages (from cryptography) (1.15.0)\n",
            "Requirement already satisfied: pycparser in /usr/local/lib/python3.7/dist-packages (from cffi>=1.12->cryptography) (2.21)\n",
            "Installing collected packages: cryptography\n",
            "Successfully installed cryptography-36.0.2\n",
            "Collecting Crypto\n",
            "  Downloading crypto-1.4.1-py2.py3-none-any.whl (18 kB)\n",
            "Collecting shellescape\n",
            "  Downloading shellescape-3.8.1-py2.py3-none-any.whl (3.1 kB)\n",
            "Collecting Naked\n",
            "  Downloading Naked-0.1.31-py2.py3-none-any.whl (590 kB)\n",
            "\u001b[K     |████████████████████████████████| 590 kB 5.1 MB/s \n",
            "\u001b[?25hRequirement already satisfied: requests in /usr/local/lib/python3.7/dist-packages (from Naked->Crypto) (2.23.0)\n",
            "Requirement already satisfied: pyyaml in /usr/local/lib/python3.7/dist-packages (from Naked->Crypto) (3.13)\n",
            "Requirement already satisfied: chardet<4,>=3.0.2 in /usr/local/lib/python3.7/dist-packages (from requests->Naked->Crypto) (3.0.4)\n",
            "Requirement already satisfied: urllib3!=1.25.0,!=1.25.1,<1.26,>=1.21.1 in /usr/local/lib/python3.7/dist-packages (from requests->Naked->Crypto) (1.24.3)\n",
            "Requirement already satisfied: certifi>=2017.4.17 in /usr/local/lib/python3.7/dist-packages (from requests->Naked->Crypto) (2021.10.8)\n",
            "Requirement already satisfied: idna<3,>=2.5 in /usr/local/lib/python3.7/dist-packages (from requests->Naked->Crypto) (2.10)\n",
            "Installing collected packages: shellescape, Naked, Crypto\n",
            "Successfully installed Crypto-1.4.1 Naked-0.1.31 shellescape-3.8.1\n",
            "Collecting pycrypto\n",
            "  Downloading pycrypto-2.6.1.tar.gz (446 kB)\n",
            "\u001b[K     |████████████████████████████████| 446 kB 5.1 MB/s \n",
            "\u001b[?25hBuilding wheels for collected packages: pycrypto\n",
            "  Building wheel for pycrypto (setup.py) ... \u001b[?25l\u001b[?25hdone\n",
            "  Created wheel for pycrypto: filename=pycrypto-2.6.1-cp37-cp37m-linux_x86_64.whl size=499932 sha256=1d4c406df46766e272d0a2e84702d6442002449ed432516c403df590dc0d0a68\n",
            "  Stored in directory: /root/.cache/pip/wheels/cf/85/ba/bbd7c96add459de7598fb424e5ff2309baf2095c844ac0f191\n",
            "Successfully built pycrypto\n",
            "Installing collected packages: pycrypto\n",
            "Successfully installed pycrypto-2.6.1\n"
          ]
        }
      ]
    },
    {
      "cell_type": "code",
      "source": [
        "\"\"\"\n",
        "1. https://stackoverflow.com/questions/42568262/how-to-encrypt-text-with-a-password-in-python\n",
        "2. https://stackoverflow.com/questions/19623267/importerror-no-module-named-crypto-cipher\n",
        "3. https://www.geeksforgeeks.org/how-to-encrypt-and-decrypt-strings-in-python/\n",
        "4. https://stackoverflow.com/questions/4182603/how-to-convert-a-string-to-utf-8-in-python\n",
        "5. https://stackoverflow.com/questions/606191/convert-bytes-to-a-string#:~:text=encoding%20%3D%20%27utf%2D8%27%0Ab%27hello%27.decode(encoding)\n",
        "\"\"\"\n",
        "import base64\n",
        "from Crypto.Cipher import AES\n",
        "from Crypto.Hash import SHA256\n",
        "from Crypto import Random\n",
        "\n",
        "def encrypt(key, source, encode=True):\n",
        "    \"\"\"encryption function\"\"\"\n",
        "    key = SHA256.new(key).digest()  # use SHA-256 over our key to get a proper-sized AES key\n",
        "    IV = Random.new().read(AES.block_size)  # generate IV\n",
        "    encryptor = AES.new(key, AES.MODE_CBC, IV)\n",
        "    padding = AES.block_size - len(source) % AES.block_size  # calculate needed padding\n",
        "    source += bytes([padding]) * padding  # Python 2.x: source += chr(padding) * padding\n",
        "    data = IV + encryptor.encrypt(source)  # store the IV at the beginning and encrypt\n",
        "    return base64.b64encode(data).decode(\"latin-1\") if encode else data\n",
        "\n",
        "def decrypt(key, source, decode=True):\n",
        "    \"\"\"decryption function\"\"\"\n",
        "    if decode:\n",
        "        source = base64.b64decode(source.encode(\"latin-1\"))\n",
        "    key = SHA256.new(key).digest()  # use SHA-256 over our key to get a proper-sized AES key\n",
        "    IV = source[:AES.block_size]  # extract the IV from the beginning\n",
        "    decryptor = AES.new(key, AES.MODE_CBC, IV)\n",
        "    data = decryptor.decrypt(source[AES.block_size:])  # decrypt\n",
        "    padding = data[-1]  # pick the padding value from the end; Python 2.x: ord(data[-1])\n",
        "    if data[-padding:] != bytes([padding]) * padding:  # Python 2.x: chr(padding) * padding\n",
        "        raise ValueError(\"Invalid padding...\")\n",
        "    return data[:-padding]  # remove the padding\n",
        "\n",
        "def encrypt_decrypt_string(data,password,encryption=True,decryption=False):\n",
        "    \"\"\"encrypt decrypt information \"\"\"\n",
        "    # my_password = b\"secret_AES_key_string_to_encrypt/decrypt_with\"\n",
        "    # my_data = b\"input_string_to_encrypt/decrypt\"\n",
        "    my_password = bytes(password, encoding='utf-8')\n",
        "    my_data = bytes(data, encoding='utf-8')\n",
        "    if encryption:\n",
        "        print(\"data: {}\".format(my_data))\n",
        "        encrypted = encrypt(my_password, my_data)\n",
        "        print(\"\\nencrypted text:{}\".format(encrypted))\n",
        "        return  encrypted\n",
        "    if decryption:\n",
        "        decrypted = decrypt(my_password, data)\n",
        "        print(\"decrypted text:  {}\".format(decrypted))\n",
        "        return  decrypted\n",
        "\n",
        "def key_information(password):\n",
        "    \"\"\"Print information about key\"\"\"\n",
        "    my_password = bytes(password, encoding='utf-8')\n",
        "    print(\"key:  {}\".format(my_password))\n",
        "\n",
        "def test(data,password):\n",
        "    \"\"\"Test the code, working of encryption decryption\"\"\"\n",
        "    my_password = bytes(password, encoding='utf-8')\n",
        "    my_data = bytes(data, encoding='utf-8')\n",
        "\n",
        "    encrypted = encrypt(my_password, my_data)\n",
        "    print(\"\\nencrypted text:  {}\".format(encrypted))\n",
        "    decrypted = decrypt(my_password, encrypted)\n",
        "    print(\"decrypted text:  {}\".format(decrypted))\n",
        "    print(\"\\ndata match: {}\".format(my_data == decrypted))\n",
        "\n",
        "def write_text_file(file_name,text):\n",
        "  file1 = open(file_name,\"a\")\n",
        "  file1.write(text)\n",
        "  file1.write(\"\\n\")\n",
        "  file1.close()\n",
        "\n",
        "if __name__ == '__main__':\n",
        "    print('encryption= 0,decryptionn= 1 ')\n",
        "    choice = int(input())\n",
        "    if choice:\n",
        "        print('enter encrypted string')\n",
        "        data = input()\n",
        "        print('enter password')\n",
        "        password = input()\n",
        "        data = encrypt_decrypt_string(data,password,encryption=False,decryption=True)\n",
        "        # print(\"decrypted string:\",str(data,'utf-8'))\n",
        "    else:\n",
        "        print('enter information')\n",
        "        information = input()\n",
        "        print('enter data')\n",
        "        data = input()\n",
        "        print('enter password')\n",
        "        password = input()\n",
        "        data = encrypt_decrypt_string(data, password)\n",
        "        file_name = 'text.txt'\n",
        "        text = information+'\\t:'+data\n",
        "        write_text_file(file_name,text)"
      ],
      "metadata": {
        "id": "yxT6F6-SiwmA"
      },
      "execution_count": null,
      "outputs": []
    },
    {
      "cell_type": "markdown",
      "source": [
        "temp"
      ],
      "metadata": {
        "id": "gtXKdwmz1co_"
      }
    },
    {
      "cell_type": "code",
      "source": [
        "file1 = open(\"1.txt\",\"r\")"
      ],
      "metadata": {
        "id": "N3VsYV3f-Nnx"
      },
      "execution_count": null,
      "outputs": []
    },
    {
      "cell_type": "code",
      "source": [
        "t = file1.readlines()\n",
        "for i in range(len(t)):\n",
        "  t[i]=encrypt_decrypt_string(t[i], \"sanket\")\n",
        "\n",
        "with open('1.txt', 'w') as f:\n",
        "    for line in t:\n",
        "        f.write(line)\n",
        "         \n"
      ],
      "metadata": {
        "id": "yknUzBGw-w7c"
      },
      "execution_count": null,
      "outputs": []
    },
    {
      "cell_type": "code",
      "source": [
        "file1.close()"
      ],
      "metadata": {
        "id": "KKbej1WcDIl6"
      },
      "execution_count": null,
      "outputs": []
    },
    {
      "cell_type": "code",
      "source": [
        "t = file1.readlines()\n",
        "for i in range(len(t)):\n",
        "  t[i]=encrypt_decrypt_string(t[i],\"sanket\",encryption=False,decryption=True)\n",
        "\n",
        "with open('1.txt', 'w') as f:\n",
        "    for line in t:\n",
        "        f.write(line.decode(\"utf-8\"))\n",
        "        f.write('\\n')  \n"
      ],
      "metadata": {
        "id": "PeKC_ED8CVSs"
      },
      "execution_count": null,
      "outputs": []
    }
  ]
}